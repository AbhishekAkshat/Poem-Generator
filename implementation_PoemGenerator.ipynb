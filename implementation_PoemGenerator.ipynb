{
 "cells": [
  {
   "cell_type": "markdown",
   "metadata": {},
   "source": [
    "# Implementing Poem Generator"
   ]
  },
  {
   "cell_type": "code",
   "execution_count": 1,
   "metadata": {},
   "outputs": [],
   "source": [
    "# Import required libraries:\n",
    "\n",
    "import random\n",
    "import pronouncing\n",
    "import json\n",
    "from nltk.tokenize import word_tokenize"
   ]
  },
  {
   "cell_type": "code",
   "execution_count": 2,
   "metadata": {},
   "outputs": [],
   "source": [
    "# Create reverse N-grams from a list of tokens:\n",
    "\n",
    "def reverseNgrams(tokens, n):\n",
    "    ngrams = []\n",
    "    for i in range(len(tokens)-1, 0+n-2, -1):\n",
    "        ngram = []\n",
    "        for j in range(i, i-n, -1):\n",
    "            ngram.append(tokens[j])\n",
    "        ngrams.append(ngram)\n",
    "    return ngrams"
   ]
  },
  {
   "cell_type": "code",
   "execution_count": 3,
   "metadata": {},
   "outputs": [],
   "source": [
    "# Organize N-grams in a frequency lookup table (N-layer nested dictionaries):\n",
    "\n",
    "def setupModel(ngrams):\n",
    "    lookup = {}\n",
    "    n = len(ngrams[0])\n",
    "    for ngram in ngrams:\n",
    "        ptr = lookup\n",
    "        for i in range(0, n):\n",
    "            if i == n-1:\n",
    "                ptr.setdefault(ngram[i], 0)\n",
    "                ptr[ngram[i]] += 1\n",
    "            else:\n",
    "                try: ptr = ptr[ngram[i]]\n",
    "                except KeyError: \n",
    "                    ptr.setdefault(ngram[i], {})\n",
    "                    ptr = ptr[ngram[i]]\n",
    "    return lookup"
   ]
  },
  {
   "cell_type": "code",
   "execution_count": 4,
   "metadata": {},
   "outputs": [],
   "source": [
    "# Loads all first words into an array for efficiency:\n",
    "\n",
    "def getFirstWords(corpus):\n",
    "    firstWords = []\n",
    "    for first in corpus:\n",
    "        firstWords.append(first)\n",
    "    return firstWords"
   ]
  },
  {
   "cell_type": "code",
   "execution_count": 5,
   "metadata": {},
   "outputs": [],
   "source": [
    "# Randomly chooses a word from the corpus:\n",
    "\n",
    "def findFirst(corpus, firstWords):\n",
    "    pick = random.randrange(0, len(firstWords)-1)\n",
    "    return firstWords[pick]"
   ]
  },
  {
   "cell_type": "code",
   "execution_count": 6,
   "metadata": {},
   "outputs": [],
   "source": [
    "# Randomly chooses a second word from the corpus based on the first:\n",
    "\n",
    "def findSecond(first, corpus, firstWords):\n",
    "    words = []\n",
    "    try:\n",
    "        for second in corpus[first]:\n",
    "            words.append(second)\n",
    "    except KeyError:\n",
    "        return findFirst(corpus, firstWords)\n",
    "        \n",
    "    if len(words) == 0: return findFirst(corpus, firstWords)\n",
    "    elif len(words) == 1: return words[0]\n",
    "    \n",
    "    pick = random.randrange(0, len(words)-1)\n",
    "    return words[pick]"
   ]
  },
  {
   "cell_type": "code",
   "execution_count": 7,
   "metadata": {},
   "outputs": [],
   "source": [
    "# Randomly chooses a third word from the corpus based on the first and second:\n",
    "\n",
    "def findThird(first, second, corpus, firstWords):\n",
    "    words = []\n",
    "    try: \n",
    "        for third in corpus[first][second]:\n",
    "            words.append(third)\n",
    "    except KeyError:\n",
    "        return findSecond(second, corpus, firstWords)\n",
    "            \n",
    "    if len(words) == 0: return findSecond(second, corpus, firstWords)\n",
    "    elif len(words) == 1: return words[0]\n",
    "    \n",
    "    pick = random.randrange(0, len(words)-1)\n",
    "    return words[pick]"
   ]
  },
  {
   "cell_type": "code",
   "execution_count": 8,
   "metadata": {},
   "outputs": [],
   "source": [
    "# Builds sentences word by word:\n",
    "\n",
    "def addWord(sentence, first, second, corpus, firstWords):\n",
    "    third = findThird(first, second, corpus, firstWords)\n",
    "    sentence.append(third)\n",
    "    first, second = second, third\n",
    "    return first, second"
   ]
  },
  {
   "cell_type": "code",
   "execution_count": 9,
   "metadata": {},
   "outputs": [],
   "source": [
    "# Randomly chooses a rhyming word from the corpus:\n",
    "\n",
    "def findRhyme(word, corpus):\n",
    "    rhymes = pronouncing.rhymes(word)\n",
    "    while (True):\n",
    "        if len(rhymes) == 0:\n",
    "            return None\n",
    "      \n",
    "        elif len(rhymes) == 1:\n",
    "            try:\n",
    "                corpus[rhymes[0]]\n",
    "                return rhymes[0]\n",
    "            except KeyError:\n",
    "                return None        \n",
    "        \n",
    "        else:\n",
    "            pick = random.randrange(0, len(rhymes)-1)\n",
    "            try:\n",
    "                corpus[rhymes[pick]]\n",
    "                return rhymes[pick]\n",
    "            except KeyError:\n",
    "                rhymes.remove(rhymes[pick])\n",
    "                continue"
   ]
  },
  {
   "cell_type": "code",
   "execution_count": 10,
   "metadata": {},
   "outputs": [],
   "source": [
    "# Implementation of a couplet - AABB CCDD EEFF GGHH:\n",
    "\n",
    "def generateCouplet(corpus, lines, wordsPerLine):\n",
    "    firstWords = getFirstWords(corpus)\n",
    "    poem = []   \n",
    "    for i in range(lines):            \n",
    "        line = []  \n",
    "        if i % 2 == 0:\n",
    "            while (True):\n",
    "                A = findFirst(corpus, firstWords)\n",
    "                AA = findRhyme(A, corpus)                \n",
    "                if AA != None:\n",
    "                    break \n",
    "    \n",
    "            first = A\n",
    "            second = findSecond(first, corpus, firstWords)\n",
    "            line += [first, second]\n",
    "        \n",
    "        if i % 2 == 1:\n",
    "            first = AA\n",
    "            second = findSecond(first, corpus, firstWords)\n",
    "            line += [first, second]\n",
    "        \n",
    "        for j in range(wordsPerLine-2):\n",
    "            first, second = addWord(line, first, second, corpus, firstWords)\n",
    "        \n",
    "        poem.append(line[::-1])\n",
    "    return poem"
   ]
  },
  {
   "cell_type": "code",
   "execution_count": 11,
   "metadata": {},
   "outputs": [],
   "source": [
    "# Handles capitalization lost from pre-processing:\n",
    "\n",
    "def poemProcessing(poem):\n",
    "    for line in poem:\n",
    "        line[0] = line[0][0].upper()+line[0][1:]\n",
    "        for index, word in enumerate(line):\n",
    "            if word[0:2] == \"i'\":\n",
    "                line[index] = word[0:2].upper()+word[2:]\n",
    "            if word == 'i':\n",
    "                line[index] = word.upper()"
   ]
  },
  {
   "cell_type": "code",
   "execution_count": 12,
   "metadata": {},
   "outputs": [],
   "source": [
    "# Tokenizing poem:\n",
    "\n",
    "def processText(sentence):\n",
    "    tokenized_sents = [word_tokenize(i) for i in sentence]\n",
    "    return tokenized_sents"
   ]
  },
  {
   "cell_type": "code",
   "execution_count": 13,
   "metadata": {},
   "outputs": [],
   "source": [
    "# Prints poem line by line:\n",
    "\n",
    "def printPoem(poem):\n",
    "    output = [' '.join(x) for x in poem]\n",
    "    return output"
   ]
  },
  {
   "cell_type": "code",
   "execution_count": 14,
   "metadata": {},
   "outputs": [],
   "source": [
    "with open('all-poems.json', 'r') as infile:    \n",
    "    corpus = json.load(infile)"
   ]
  },
  {
   "cell_type": "code",
   "execution_count": 15,
   "metadata": {},
   "outputs": [],
   "source": [
    "# This will generate a couplet - AABB CCDD EEFF GGHH\n",
    "# With 8 lines, 8 words each line\n",
    "\n",
    "poem = generateCouplet(corpus, 8, 8)"
   ]
  },
  {
   "cell_type": "code",
   "execution_count": 16,
   "metadata": {},
   "outputs": [],
   "source": [
    "# Handles capitilization and formatting:\n",
    "\n",
    "poemProcessing(poem)"
   ]
  },
  {
   "cell_type": "code",
   "execution_count": 17,
   "metadata": {},
   "outputs": [
    {
     "data": {
      "text/plain": [
       "['Bird being tamed with too much labour drowns',\n",
       " \"Nature's death for now against himself he sounds\",\n",
       " 'Maiden virtue would stain to all the host',\n",
       " \"With her, the night so pack'd, I post\",\n",
       " \"In her mishaps, 'art thou obdurate, flinty, hard\",\n",
       " 'Doves will draw not thy sword to guard',\n",
       " 'He strikes each in bloody death and pain',\n",
       " 'Many a lovely look, as the gentle rain']"
      ]
     },
     "execution_count": 17,
     "metadata": {},
     "output_type": "execute_result"
    }
   ],
   "source": [
    "# Short function to print to console:\n",
    "\n",
    "printPoem(poem)"
   ]
  },
  {
   "cell_type": "code",
   "execution_count": 18,
   "metadata": {},
   "outputs": [
    {
     "data": {
      "text/plain": [
       "['Privileged by age, desires',\n",
       " 'Be wires, black wires',\n",
       " \"Crushes 'tween his teeth\",\n",
       " 'Discontent thou didst bequeath']"
      ]
     },
     "execution_count": 18,
     "metadata": {},
     "output_type": "execute_result"
    }
   ],
   "source": [
    "poem = generateCouplet(corpus, 4, 4)\n",
    "poemProcessing(poem)\n",
    "printPoem(poem)"
   ]
  },
  {
   "cell_type": "code",
   "execution_count": 19,
   "metadata": {},
   "outputs": [
    {
     "data": {
      "text/plain": [
       "[\"Feed on helen's cheek all art\",\n",
       " 'Have done is yours; being part',\n",
       " 'And to your lordship is without',\n",
       " 'That cannot tread the way out',\n",
       " \"Nature's outwards so great a sum\",\n",
       " 'Melts, as scorning his churlish drum']"
      ]
     },
     "execution_count": 19,
     "metadata": {},
     "output_type": "execute_result"
    }
   ],
   "source": [
    "poem = generateCouplet(corpus, 6, 6)\n",
    "poemProcessing(poem)\n",
    "printPoem(poem)"
   ]
  },
  {
   "cell_type": "markdown",
   "metadata": {},
   "source": [
    "------------------------------------------------------------------------------------------------------------------"
   ]
  }
 ],
 "metadata": {
  "kernelspec": {
   "display_name": "Python 3 (ipykernel)",
   "language": "python",
   "name": "python3"
  },
  "language_info": {
   "codemirror_mode": {
    "name": "ipython",
    "version": 3
   },
   "file_extension": ".py",
   "mimetype": "text/x-python",
   "name": "python",
   "nbconvert_exporter": "python",
   "pygments_lexer": "ipython3",
   "version": "3.12.4"
  }
 },
 "nbformat": 4,
 "nbformat_minor": 4
}
